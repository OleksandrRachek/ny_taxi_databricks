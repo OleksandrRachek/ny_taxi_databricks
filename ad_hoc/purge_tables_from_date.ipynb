{
 "cells": [
  {
   "cell_type": "code",
   "execution_count": null,
   "id": "417d1292",
   "metadata": {
    "vscode": {
     "languageId": "plaintext"
    }
   },
   "outputs": [],
   "source": [
    "# Update this so that the date is the start of the month that was 2 months prior to the current date\n",
    "date_from = '2025-06-01'"
   ]
  },
  {
   "cell_type": "code",
   "execution_count": null,
   "id": "a5ae051c",
   "metadata": {
    "vscode": {
     "languageId": "plaintext"
    }
   },
   "outputs": [],
   "source": [
    "from delta.tables import DeltaTable\n",
    "\n",
    "dt = DeltaTable.forName(spark, \"nyctaxi.`01_bronze`.yellow_trips_raw\")\n",
    "\n",
    "dt.delete(f\"tpep_pickup_datetime >= '{date_from}'\")"
   ]
  },
  {
   "cell_type": "code",
   "execution_count": null,
   "id": "092afa21",
   "metadata": {
    "vscode": {
     "languageId": "plaintext"
    }
   },
   "outputs": [],
   "source": [
    "from delta.tables import DeltaTable\n",
    "\n",
    "dt = DeltaTable.forName(spark, \"nyctaxi.`02_silver`.yellow_trips_cleansed\")\n",
    "\n",
    "dt.delete(f\"tpep_pickup_datetime >= '{date_from}'\")"
   ]
  },
  {
   "cell_type": "code",
   "execution_count": null,
   "id": "6e4e32bd",
   "metadata": {
    "vscode": {
     "languageId": "plaintext"
    }
   },
   "outputs": [],
   "source": [
    "from delta.tables import DeltaTable\n",
    "\n",
    "dt = DeltaTable.forName(spark, \"nyctaxi.`02_silver`.yellow_trips_enriched\")\n",
    "\n",
    "dt.delete(f\"tpep_pickup_datetime >= '{date_from}'\")"
   ]
  },
  {
   "cell_type": "code",
   "execution_count": null,
   "id": "613b0188",
   "metadata": {
    "vscode": {
     "languageId": "plaintext"
    }
   },
   "outputs": [],
   "source": []
  },
  {
   "cell_type": "code",
   "execution_count": null,
   "id": "1946f531",
   "metadata": {
    "vscode": {
     "languageId": "plaintext"
    }
   },
   "outputs": [],
   "source": [
    "from delta.tables import DeltaTable\n",
    "\n",
    "dt = DeltaTable.forName(spark, \"nyctaxi.`03_gold`.daily_trip_summary\")\n",
    "\n",
    "dt.delete(f\"pickup_date >= '{date_from}'\")"
   ]
  }
 ],
 "metadata": {
  "language_info": {
   "name": "python"
  }
 },
 "nbformat": 4,
 "nbformat_minor": 5
}
