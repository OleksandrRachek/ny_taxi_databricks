{
 "cells": [
  {
   "cell_type": "code",
   "execution_count": null,
   "id": "3d2684d8",
   "metadata": {
    "vscode": {
     "languageId": "plaintext"
    }
   },
   "outputs": [],
   "source": [
    "import sys\n",
    "import os\n",
    "# Go two levels up to reach the project root\n",
    "project_root = os.path.abspath(os.path.join(os.getcwd(), \"../..\"))\n",
    "\n",
    "if project_root not in sys.path:\n",
    "    sys.path.append(project_root)\n",
    "\n",
    "from modules.utils.date_utils import get_month_start_n_months_ago\n",
    "from pyspark.sql.functions import date_format"
   ]
  },
  {
   "cell_type": "code",
   "execution_count": null,
   "id": "6331469d",
   "metadata": {
    "vscode": {
     "languageId": "plaintext"
    }
   },
   "outputs": [],
   "source": [
    "\n",
    "# Get the first day of the month two months ago\n",
    "two_months_ago_start = get_month_start_n_months_ago(2)"
   ]
  },
  {
   "cell_type": "code",
   "execution_count": null,
   "id": "d87f34aa",
   "metadata": {
    "vscode": {
     "languageId": "plaintext"
    }
   },
   "outputs": [],
   "source": [
    "# Read the 'yellow_trips_enriched' table from the 'nyctaxi.02_silver' schema\n",
    "# and filter to only include trips with a pickup datetime\n",
    "# later than the start date from two months ago\n",
    "\n",
    "df = spark.read.table(\"nyctaxi.02_silver.yellow_trips_enriched\").filter(f\"tpep_pickup_datetime > '{two_months_ago_start}'\")"
   ]
  },
  {
   "cell_type": "code",
   "execution_count": null,
   "id": "bd25eddb",
   "metadata": {
    "vscode": {
     "languageId": "plaintext"
    }
   },
   "outputs": [],
   "source": [
    "# Add a year_month column, formated as yyyy-MM\n",
    "\n",
    "df = df.withColumn(\"year_month\", date_format(\"tpep_pickup_datetime\", \"yyyy-MM\"))"
   ]
  },
  {
   "cell_type": "code",
   "execution_count": null,
   "id": "eff4ebee",
   "metadata": {
    "vscode": {
     "languageId": "plaintext"
    }
   },
   "outputs": [],
   "source": [
    "# Write the yellow_trips data in JSON format to the External Table \"yellow_trips_export\"\n",
    "\n",
    "df.write.\\\n",
    "    option(\"path\", \"abfss://nyctaxi-yellow@nyctaxistorage639.dfs.core.windows.net/yellow_trips_export/\").\\\n",
    "    format(\"json\").\\\n",
    "    mode(\"append\").\\\n",
    "    partitionBy(\"vendor\", \"year_month\").\\\n",
    "    saveAsTable(\"nyctaxi.04_export.yellow_trips_export\")"
   ]
  }
 ],
 "metadata": {
  "language_info": {
   "name": "python"
  }
 },
 "nbformat": 4,
 "nbformat_minor": 5
}
