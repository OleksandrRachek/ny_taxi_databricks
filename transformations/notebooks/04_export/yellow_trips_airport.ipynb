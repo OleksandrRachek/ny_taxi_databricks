{
 "cells": [
  {
   "cell_type": "code",
   "execution_count": 0,
   "metadata": {
    "application/vnd.databricks.v1+cell": {
     "cellMetadata": {},
     "inputWidgets": {},
     "nuid": "763f4bb7-926b-4ccf-880a-dd96d967669a",
     "showTitle": false,
     "tableResultSettingsMap": {},
     "title": ""
    },
    "vscode": {
     "languageId": "plaintext"
    }
   },
   "outputs": [],
   "source": [
    "import sys\n",
    "import os\n",
    "# Go two levels up to reach the project root\n",
    "project_root = os.path.abspath(os.path.join(os.getcwd(), \"../..\"))\n",
    "\n",
    "if project_root not in sys.path:\n",
    "    sys.path.append(project_root)\n",
    "\n",
    "from modules.utils.date_utils import get_month_start_n_months_ago\n",
    "from pyspark.sql.functions import date_format"
   ]
  },
  {
   "cell_type": "code",
   "execution_count": 0,
   "metadata": {
    "application/vnd.databricks.v1+cell": {
     "cellMetadata": {},
     "inputWidgets": {},
     "nuid": "21fc2d56-373f-4187-87c8-f069a4ac4286",
     "showTitle": false,
     "tableResultSettingsMap": {},
     "title": ""
    },
    "vscode": {
     "languageId": "plaintext"
    }
   },
   "outputs": [],
   "source": [
    "\n",
    "# Get the first day of the month two months ago\n",
    "two_months_ago_start = get_month_start_n_months_ago(2)"
   ]
  },
  {
   "cell_type": "code",
   "execution_count": 0,
   "metadata": {
    "application/vnd.databricks.v1+cell": {
     "cellMetadata": {},
     "inputWidgets": {},
     "nuid": "7433ef20-e2d8-4188-8603-2cf3d12ed283",
     "showTitle": false,
     "tableResultSettingsMap": {},
     "title": ""
    },
    "vscode": {
     "languageId": "plaintext"
    }
   },
   "outputs": [],
   "source": [
    "# Read the 'yellow_trips_enriched' table from the 'nyctaxi.02_silver' schema\n",
    "# and filter to only include trips with a pickup datetime\n",
    "# later than the start date from two months ago\n",
    "\n",
    "df = spark.read.table(\"nyctaxi.02_silver.green_and_yellow_trips_enriched\").filter(f\"pickup_datetime > '{two_months_ago_start}'\")"
   ]
  },
  {
   "cell_type": "code",
   "execution_count": 0,
   "metadata": {
    "application/vnd.databricks.v1+cell": {
     "cellMetadata": {},
     "inputWidgets": {},
     "nuid": "5430cbc2-713e-4c47-a3e4-c6b82507d080",
     "showTitle": false,
     "tableResultSettingsMap": {},
     "title": ""
    },
    "vscode": {
     "languageId": "plaintext"
    }
   },
   "outputs": [],
   "source": [
    "# Add a year_month column, formated as yyyy-MM\n",
    "\n",
    "df = df.withColumn(\"year_month\", date_format(\"pickup_datetime\", \"yyyy-MM\"))"
   ]
  },
  {
   "cell_type": "code",
   "execution_count": 0,
   "metadata": {
    "application/vnd.databricks.v1+cell": {
     "cellMetadata": {},
     "inputWidgets": {},
     "nuid": "d3fd4496-0ba8-4989-8442-f1af8338863a",
     "showTitle": false,
     "tableResultSettingsMap": {},
     "title": ""
    },
    "vscode": {
     "languageId": "plaintext"
    }
   },
   "outputs": [],
   "source": [
    "# Write the yellow_trips data in JSON format to the External Table \"yellow_trips_export\"\n",
    "\n",
    "df.write.\\\n",
    "    option(\"path\", \"s3://nyc-taxi-yellow-or/yellow_trips_export/\").\\\n",
    "    format(\"json\").\\\n",
    "    mode(\"append\").\\\n",
    "    partitionBy(\"vendor\", \"year_month\").\\\n",
    "    saveAsTable(\"nyctaxi.04_export.yellow_trips_exported\")"
   ]
  }
 ],
 "metadata": {
  "application/vnd.databricks.v1+notebook": {
   "computePreferences": null,
   "dashboards": [],
   "environmentMetadata": null,
   "inputWidgetPreferences": null,
   "language": "python",
   "notebookMetadata": {
    "pythonIndentUnit": 4
   },
   "notebookName": "yellow_trips_airport",
   "widgets": {}
  },
  "language_info": {
   "name": "python"
  }
 },
 "nbformat": 4,
 "nbformat_minor": 0
}
