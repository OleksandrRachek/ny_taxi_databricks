{
 "cells": [
  {
   "cell_type": "code",
   "execution_count": null,
   "id": "81dd920c",
   "metadata": {
    "vscode": {
     "languageId": "plaintext"
    }
   },
   "outputs": [],
   "source": [
    "from pyspark.sql.functions import date_format"
   ]
  },
  {
   "cell_type": "code",
   "execution_count": null,
   "id": "43100465",
   "metadata": {
    "vscode": {
     "languageId": "plaintext"
    }
   },
   "outputs": [],
   "source": [
    "# Add a year_month column, formated as yyyy-MM\n",
    "df = spark.read.table(\"nyctaxi.02_silver.yellow_trips_enriched\")\n",
    "\n",
    "df = df.withColumn(\"year_month\", date_format(\"tpep_pickup_datetime\", \"yyyy-MM\"))"
   ]
  },
  {
   "cell_type": "code",
   "execution_count": null,
   "id": "18e52217",
   "metadata": {
    "vscode": {
     "languageId": "plaintext"
    }
   },
   "outputs": [],
   "source": [
    "# Write the yellow_trips data in JSON format to the External Table \"yellow_trips_export\"\n",
    "\n",
    "df.write.\\\n",
    "    option(\"path\", \"abfss://nyctaxi-yellow@nyctaxistorage639.dfs.core.windows.net/yellow_trips_export/\").\\\n",
    "    format(\"json\").\\\n",
    "    mode(\"append\").\\\n",
    "    partitionBy(\"vendor\", \"year_month\").\\\n",
    "    saveAsTable(\"nyctaxi.04_export.yellow_trips_export\")"
   ]
  }
 ],
 "metadata": {
  "language_info": {
   "name": "python"
  }
 },
 "nbformat": 4,
 "nbformat_minor": 5
}
