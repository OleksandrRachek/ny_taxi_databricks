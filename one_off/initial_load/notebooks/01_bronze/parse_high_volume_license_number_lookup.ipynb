{
 "cells": [
  {
   "cell_type": "code",
   "execution_count": 0,
   "metadata": {
    "application/vnd.databricks.v1+cell": {
     "cellMetadata": {
      "byteLimit": 2048000,
      "rowLimit": 10000
     },
     "inputWidgets": {},
     "nuid": "b0349789-5431-4e29-aa06-73335ec9fb4b",
     "showTitle": false,
     "tableResultSettingsMap": {},
     "title": ""
    }
   },
   "outputs": [],
   "source": [
    "%pip install pdfplumber"
   ]
  },
  {
   "cell_type": "code",
   "execution_count": 0,
   "metadata": {
    "application/vnd.databricks.v1+cell": {
     "cellMetadata": {
      "byteLimit": 2048000,
      "rowLimit": 10000
     },
     "inputWidgets": {},
     "nuid": "d91fc898-8a53-430d-b29b-738591024d5e",
     "showTitle": false,
     "tableResultSettingsMap": {},
     "title": ""
    }
   },
   "outputs": [],
   "source": [
    "import pdfplumber\n",
    "import re\n",
    "\n",
    "rows = []\n",
    "with pdfplumber.open(\n",
    "    \"/Volumes/nyctaxi/00_landing/data_sources/tmp/trip_record_user_guide.pdf\"\n",
    ") as pdf:\n",
    "    for page in pdf.pages:\n",
    "        tables = page.extract_tables()\n",
    "        for table in tables:\n",
    "            for row in table:\n",
    "                rows.append(row)\n",
    "\n",
    "# Clean column names: remove invalid characters and replace spaces with underscores\n",
    "def clean_col(col):\n",
    "    return re.sub(r'[ ,;{}()\\n\\t=]', '_', col.strip())\n",
    "\n",
    "header = [clean_col(col) for col in rows[0]]\n",
    "data = rows[1:]\n",
    "\n",
    "df = spark.createDataFrame(data, header)\n",
    "df.write.mode(\"overwrite\").saveAsTable(\"nyctaxi.01_bronze.trip_record_user_guide\")\n"
   ]
  }
 ],
 "metadata": {
  "application/vnd.databricks.v1+notebook": {
   "computePreferences": null,
   "dashboards": [],
   "environmentMetadata": {
    "base_environment": "",
    "environment_version": "4"
   },
   "inputWidgetPreferences": null,
   "language": "python",
   "notebookMetadata": {
    "pythonIndentUnit": 4
   },
   "notebookName": "parse_high_volume_license_number_lookup",
   "widgets": {}
  },
  "language_info": {
   "name": "python"
  }
 },
 "nbformat": 4,
 "nbformat_minor": 0
}
